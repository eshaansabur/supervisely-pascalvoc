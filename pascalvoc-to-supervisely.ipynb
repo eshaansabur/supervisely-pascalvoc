{
 "cells": [
  {
   "cell_type": "code",
   "execution_count": 59,
   "id": "e680575b-4443-41fa-8512-22f2931bd5bf",
   "metadata": {},
   "outputs": [
    {
     "name": "stdout",
     "output_type": "stream",
     "text": [
      "pascal_to_superviselyoutput.xml.json\n"
     ]
    }
   ],
   "source": [
    "import json\n",
    "import os\n",
    "import numpy as np\n",
    "from xml.etree.ElementTree import Element\n",
    "from xml.etree.ElementTree import XMLParser\n",
    "import xml.etree.ElementTree as ET\n",
    "# Specify the directory containing the JSON files\n",
    "directory = r'C:\\Projects\\supervisely-pascalvoc'\n",
    "# Iterate over each file in the directory\n",
    "#create a dictionary for supervisely format\n",
    "empty_dict = {\"description\": \"\",\"tags\": []}\n",
    "for filename in os.listdir(directory):\n",
    "    # Check if the file is a JSON file\n",
    "    if filename.endswith(\".xml\"):\n",
    "        #print(filename)\n",
    "        tree = ET.parse(filename)\n",
    "        root = tree.getroot()\n",
    "        #print(root.tag)\n",
    "        objects_array = []\n",
    "        for child in root:\n",
    "            #print(child.tag, child.text)\n",
    "            if child.tag=='size':\n",
    "                size_dict = {}\n",
    "                #print(len(child))\n",
    "                for c in child:\n",
    "                    #print(c.tag, c.text)\n",
    "                    if c.tag=='height' or c.tag=='width':\n",
    "                        #print(c.text)\n",
    "                        size_dict.update({c.tag: c.text.strip()})\n",
    "                #print(size_dict)\n",
    "                empty_dict[child.tag]= size_dict\n",
    "                #print(empty_dict)\n",
    "            elif child.tag=='object':\n",
    "                object_dict= {}\n",
    "                #print(len(child))\n",
    "                for c in child:\n",
    "                    #print(c.tag)\n",
    "                    if c.tag=='name':\n",
    "                        object_dict.update({'classTitle': c.text.strip()})\n",
    "                    elif c.tag=='bndbox':\n",
    "                        #print(len(c))\n",
    "                        x1= None\n",
    "                        x2= None\n",
    "                        y1= None\n",
    "                        y2= None\n",
    "                        for cc in c:\n",
    "                            #print(cc.tag)\n",
    "                            #print(cc.tag)\n",
    "                            if cc.tag=='xmax':\n",
    "                                x2=cc.text.strip()\n",
    "                            elif cc.tag=='xmin':\n",
    "                                x1=cc.text.strip()\n",
    "                            elif cc.tag=='ymax':\n",
    "                                y2=cc.text.strip()\n",
    "                            elif cc.tag=='ymin':\n",
    "                                y1=cc.text.strip()\n",
    "                        exterior = [[int(x1), int(y1)], [int(x2), int(y2)]]\n",
    "                        #print(exterior)\n",
    "                        interior = []\n",
    "                        object_dict['points'] = {\"exterior\": exterior, \"interior\": interior}\n",
    "                    object_dict['geometryType'] = 'rectangle'\n",
    "                #print(object_dict)\n",
    "                objects_array.append(object_dict)\n",
    "        #print(len(objects_array))\n",
    "        empty_dict['objects']= objects_array\n",
    "        #print(empty_dict)\n",
    "        # Combine the filename with the base filename to create the full filename\n",
    "        formatted = \"pascal_to_supervisely\" + filename+\".json\"\n",
    "        print(formatted)\n",
    "        # Specify the directory name\n",
    "        directory_name = \"pascal_to_supervisely\"\n",
    "        \n",
    "        # Create the directory if it doesn't exist\n",
    "        if not os.path.exists(directory_name):\n",
    "            os.makedirs(directory_name)\n",
    "        # Construct the full file path\n",
    "        filepath = os.path.join(directory_name, formatted)\n",
    "        # Save the JSON data to the file\n",
    "        with open(filepath, \"w\") as f:\n",
    "            json.dump(empty_dict, f, indent=4)\n",
    "                               "
   ]
  },
  {
   "cell_type": "code",
   "execution_count": null,
   "id": "ef7a19b5-f04d-4146-badd-0424f3e0da71",
   "metadata": {},
   "outputs": [],
   "source": []
  },
  {
   "cell_type": "code",
   "execution_count": null,
   "id": "d8e63bac-5aef-4f83-8663-d941b1fdccf7",
   "metadata": {},
   "outputs": [],
   "source": []
  }
 ],
 "metadata": {
  "kernelspec": {
   "display_name": "Python 3 (ipykernel)",
   "language": "python",
   "name": "python3"
  },
  "language_info": {
   "codemirror_mode": {
    "name": "ipython",
    "version": 3
   },
   "file_extension": ".py",
   "mimetype": "text/x-python",
   "name": "python",
   "nbconvert_exporter": "python",
   "pygments_lexer": "ipython3",
   "version": "3.11.7"
  }
 },
 "nbformat": 4,
 "nbformat_minor": 5
}
